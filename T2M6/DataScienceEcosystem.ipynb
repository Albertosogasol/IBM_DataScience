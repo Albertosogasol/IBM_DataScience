{
 "cells": [
  {
   "cell_type": "markdown",
   "id": "5023c974-6975-4d32-a7e5-44f261c287d2",
   "metadata": {},
   "source": [
    "# Data Science Tools and Ecosystem\n"
   ]
  },
  {
   "cell_type": "markdown",
   "id": "b3c3dea0-754d-4c07-a3b2-b6545f947b23",
   "metadata": {},
   "source": [
    "In this notebook, Data Science Tools and Ecosystem are summarized.\n"
   ]
  },
  {
   "cell_type": "markdown",
   "id": "50c412b5-a0cb-45e4-a9ad-7627ef01e705",
   "metadata": {},
   "source": [
    "**Objectives:**\n",
    "- List popular languages for Data Science\n",
    "- List commonly used libraries in Data Science\n",
    "- Show examples of basic arithmetic operations\n",
    "- Provide a table of popular Data Science tools"
   ]
  },
  {
   "cell_type": "markdown",
   "id": "8526946d-5d9d-47c0-b63d-13f092707686",
   "metadata": {},
   "source": [
    "Some of the popular languages that Data Scientists use are:\n",
    "1. Python\n",
    "2. R\n",
    "3. Julia\n",
    "4. SQL"
   ]
  },
  {
   "cell_type": "markdown",
   "id": "a2601b29-d1fd-4e00-b719-1c371a766359",
   "metadata": {},
   "source": [
    "Some of the commonly used libraries used by Data Scientists include:\n",
    "1. Pandas\n",
    "2. Numpy\n",
    "3. TensorFlow"
   ]
  },
  {
   "cell_type": "markdown",
   "id": "1c30a02e-8a07-47a9-8717-ab82e80e4f47",
   "metadata": {},
   "source": [
    "| Data Science Tools |\n",
    "| ------------------ |\n",
    "| JupyterLab |\n",
    "| RStudio |\n",
    "| Zeppelin Notebooks |"
   ]
  },
  {
   "cell_type": "markdown",
   "id": "66150a85-f766-43a8-9dfd-aabd2f0443cd",
   "metadata": {},
   "source": [
    "### Below are a few examples of evaluating arithmetic expressions in Python"
   ]
  },
  {
   "cell_type": "code",
   "execution_count": 4,
   "id": "9267c2af-bdd7-46f6-ae1d-b0dce9e36a7d",
   "metadata": {},
   "outputs": [
    {
     "data": {
      "text/plain": [
       "17"
      ]
     },
     "execution_count": 4,
     "metadata": {},
     "output_type": "execute_result"
    }
   ],
   "source": [
    "# This a simple arithmetic expression to multiply then add integers\n",
    "(3*4)+5\n"
   ]
  },
  {
   "cell_type": "code",
   "execution_count": 5,
   "id": "ca4af93d-5244-4047-a40d-74e14dcfa075",
   "metadata": {},
   "outputs": [
    {
     "data": {
      "text/plain": [
       "3.3333333333333335"
      ]
     },
     "execution_count": 5,
     "metadata": {},
     "output_type": "execute_result"
    }
   ],
   "source": [
    "# This will convert 200 minutes to hours dividing by 60\n",
    "200/60"
   ]
  },
  {
   "cell_type": "markdown",
   "id": "eef7743c-8bb8-4dbe-92fb-21020cfdc0cd",
   "metadata": {},
   "source": [
    "## Author\n",
    "Alberto Gonzaga\n"
   ]
  }
 ],
 "metadata": {
  "kernelspec": {
   "display_name": "Python 3 (ipykernel)",
   "language": "python",
   "name": "python3"
  },
  "language_info": {
   "codemirror_mode": {
    "name": "ipython",
    "version": 3
   },
   "file_extension": ".py",
   "mimetype": "text/x-python",
   "name": "python",
   "nbconvert_exporter": "python",
   "pygments_lexer": "ipython3",
   "version": "3.12.2"
  }
 },
 "nbformat": 4,
 "nbformat_minor": 5
}
