{
 "cells": [
  {
   "cell_type": "markdown",
   "metadata": {},
   "source": [
    "# Resumen HTTP Request\n",
    "#### Notebook para el resumen personal de las peticiones HTTP"
   ]
  },
  {
   "cell_type": "code",
   "execution_count": 1,
   "metadata": {},
   "outputs": [],
   "source": [
    "# Codigo para probar las http request en Python\n",
    "\n",
    "import requests\n",
    "import os\n",
    "from PIL import Image\n",
    "from IPython.display import IFrame"
   ]
  },
  {
   "cell_type": "markdown",
   "metadata": {},
   "source": [
    "##### URL "
   ]
  },
  {
   "cell_type": "code",
   "execution_count": 2,
   "metadata": {},
   "outputs": [],
   "source": [
    "# URL a la que se hará la petición\n",
    "url = 'https://www.ibm.com/'\n",
    "r = requests.get(url)"
   ]
  },
  {
   "cell_type": "markdown",
   "metadata": {},
   "source": [
    "##### Encabezados"
   ]
  },
  {
   "cell_type": "code",
   "execution_count": 3,
   "metadata": {},
   "outputs": [
    {
     "name": "stdout",
     "output_type": "stream",
     "text": [
      "{'User-Agent': 'python-requests/2.32.3', 'Accept-Encoding': 'gzip, deflate', 'Accept': '*/*', 'Connection': 'keep-alive', 'Cookie': '_abck=C2118A5A1AC6CC962E36666403D36B6B~-1~YAAQGFUQYNS1GvaQAQAA392r/QwuE+czmKmi/xIjFdFWzbl559NMHIrwMz1QhbDM/RLpCNLxoehyLCW7m9m2nZQfwS5CuMbuA48x+RQQJlYMnz4KePpI7vsrGY5s+YoYuEnuZmZlXb//E2lY46B6JU+nguHGbrwVoo52Sk54jRcsFuoSzAbIoK3Eq5y4YuD3bMjLEaJmgoxjkXq8In5MTdo+kIlvjtWd7Rd/mSnvup/q5N55NHhF9PM1muH7B/y7N0UMKSz4qTtRPFx3VMgZwxZdgWYTRHKHVS2rA2/vq8DCriwprKEtB/jfjsLEhjqe3tvo8+vTVlUwgAcXbaXyQ0i8AAm7P3UjzPR5dT8WIGrCC5nyG4Q=~-1~-1~-1; bm_sz=E67D45E04E327DC867DE89C4D43F2CA3~YAAQGFUQYNW1GvaQAQAA392r/Rhd7FXUsyYiL4vg3obTCrFMeD1RXvZVjQGGGBHpG/M3e4hn49SsRNs/R2mo4Q6Ckgk4G+f8l8DRj0WF4HECx/sEc3OjeDdTXXxkvwCp1I0mTvnhFiOS1Ug3l2xdxWdIToZEh4RhH34NDKv/rzlAfzaIwsa89NCh7KRRoqn4q5dW5sfvZ8CN0w3ThICEV7kOeZcUl4Ct4Js5cGRUQsW+O2ivlwDG67Lde6376GR/zM2I+tfpRDoRavEsMuEw3NI1ILk3DpGY7FoC4GYn5QgDN9gTP3Y8teMMWCtpc42nS3BfdBSVfVALbeM9tFirIRowpzP4sRVJ~4403525~3486278'}\n"
     ]
    }
   ],
   "source": [
    "# Los encabezados de la solicitud HTTP se obtienen:\n",
    "print(r.request.headers)"
   ]
  },
  {
   "cell_type": "markdown",
   "metadata": {},
   "source": [
    "Los encabezados de la solicitud HTTP contienen información adicional enviada al servidor para proporcionar contexto sobre la solicitud. Aquí tienes una explicación de algunos encabezados comunes que podrías ver:\n",
    "\n",
    "User-Agent: Identifica el cliente que realiza la solicitud (por ejemplo, el navegador o el programa).\n",
    "Accept: Indica los tipos de contenido que el cliente puede procesar.\n",
    "Accept-Encoding: Especifica los tipos de codificación de contenido que el cliente puede procesar.\n",
    "Connection: Controla si la conexión permanece abierta después de que se ha completado la solicitud actual (por ejemplo, keep-alive)."
   ]
  },
  {
   "cell_type": "code",
   "execution_count": 4,
   "metadata": {},
   "outputs": [
    {
     "name": "stdout",
     "output_type": "stream",
     "text": [
      "None\n"
     ]
    }
   ],
   "source": [
    "# El encabezado del cuerpo se obtiene:\n",
    "print(r.request.body)"
   ]
  },
  {
   "cell_type": "markdown",
   "metadata": {},
   "source": [
    "Una solicitud GET en el protocolo HTTP no tiene cuerpo porque su propósito principal es solicitar datos de un servidor, no enviar datos al servidor"
   ]
  },
  {
   "cell_type": "markdown",
   "metadata": {},
   "source": [
    "##### Salida"
   ]
  },
  {
   "cell_type": "code",
   "execution_count": 5,
   "metadata": {},
   "outputs": [
    {
     "data": {
      "text/plain": [
       "'\\n<!DOCTYPE HTML>\\n<html lang=\"en-us\">\\n<head>\\r\\n    \\r\\n    \\r\\n    \\r\\n    \\r\\n    \\r\\n    \\r\\n    \\r\\n    <meta cha'"
      ]
     },
     "execution_count": 5,
     "metadata": {},
     "output_type": "execute_result"
    }
   ],
   "source": [
    "# Salida de los 100 primeros caracteres del HTML de la pagiuna\n",
    "r.text[0:100]"
   ]
  },
  {
   "cell_type": "markdown",
   "metadata": {},
   "source": [
    "La salida en este caso podría verse asi:"
   ]
  },
  {
   "cell_type": "code",
   "execution_count": 6,
   "metadata": {
    "vscode": {
     "languageId": "html"
    }
   },
   "outputs": [
    {
     "ename": "SyntaxError",
     "evalue": "invalid syntax (3455664131.py, line 1)",
     "output_type": "error",
     "traceback": [
      "\u001b[1;36m  Cell \u001b[1;32mIn[6], line 1\u001b[1;36m\u001b[0m\n\u001b[1;33m    <!doctype html>\u001b[0m\n\u001b[1;37m    ^\u001b[0m\n\u001b[1;31mSyntaxError\u001b[0m\u001b[1;31m:\u001b[0m invalid syntax\n"
     ]
    }
   ],
   "source": [
    "<!doctype html>\n",
    "<html lang=\"en\">\n",
    "<head>\n",
    "    <meta charset=\"utf-8\">\n",
    "    <title>IBM - United States</title>\n",
    "    <meta name=\"viewport\" content=\"width=device-width, initial-scale=1.0\">\n",
    "    <meta name=\"description\" content=\"IBM's home page, providing links to news, information, and services.\">\n",
    "    <link rel=\"stylesheet\" href=\"/path/to/stylesheet.css\">\n",
    "    <script src=\"/path/to/script.js\"></script>\n",
    "</head>\n",
    "<body>\n",
    "..."
   ]
  },
  {
   "cell_type": "markdown",
   "metadata": {},
   "source": [
    "Tambien se pueden hacer peticiones a tipos de dato que no sean texto"
   ]
  },
  {
   "cell_type": "code",
   "execution_count": 10,
   "metadata": {},
   "outputs": [],
   "source": [
    "# Use single quotation marks for defining string\n",
    "url='https://cf-courses-data.s3.us.cloud-object-storage.appdomain.cloud/IBMDeveloperSkillsNetwork-PY0101EN-SkillsNetwork/IDSNlogo.png'"
   ]
  },
  {
   "cell_type": "code",
   "execution_count": 11,
   "metadata": {},
   "outputs": [],
   "source": [
    "r=requests.get(url)"
   ]
  },
  {
   "cell_type": "code",
   "execution_count": 12,
   "metadata": {},
   "outputs": [
    {
     "name": "stdout",
     "output_type": "stream",
     "text": [
      "{'Date': 'Mon, 29 Jul 2024 08:57:04 GMT', 'X-Clv-Request-Id': '68089260-bfe3-481f-aed4-29d8e66d2423', 'Server': 'Cleversafe', 'X-Clv-S3-Version': '2.5', 'Accept-Ranges': 'bytes', 'x-amz-request-id': '68089260-bfe3-481f-aed4-29d8e66d2423', 'ETag': '\"8bb44578fff8fdcc3d2972be9ece0164\"', 'Content-Type': 'image/png', 'Last-Modified': 'Wed, 16 Nov 2022 03:32:41 GMT', 'Content-Length': '78776'}\n"
     ]
    }
   ],
   "source": [
    "print(r.headers)"
   ]
  },
  {
   "cell_type": "markdown",
   "metadata": {},
   "source": [
    "Ahora vemos el tipo de contenido"
   ]
  },
  {
   "cell_type": "code",
   "execution_count": 13,
   "metadata": {},
   "outputs": [
    {
     "data": {
      "text/plain": [
       "'image/png'"
      ]
     },
     "execution_count": 13,
     "metadata": {},
     "output_type": "execute_result"
    }
   ],
   "source": [
    "r.headers['Content-Type']"
   ]
  },
  {
   "cell_type": "markdown",
   "metadata": {},
   "source": [
    "La imagen se recibe como un objeto similar a bytes (bytes-like object), lo que significa que los datos de la imagen se almacenan en formato binario. Aquí te explico cada parte en detalle:\n",
    "\n",
    "Explicación\n",
    "1. #### Imagen como Objeto de Respuesta:\n",
    "\n",
    "    Una imagen se obtiene como un objeto de respuesta HTTP cuando haces una solicitud a una URL que devuelve una imagen.\n",
    "    Este objeto de respuesta contiene los datos de la imagen en formato binario (un bytes-like object).\n",
    "\n",
    "2. #### Objeto Similar a Bytes (bytes-like object):\n",
    "\n",
    "    Un bytes-like object es una secuencia de bytes, que es el formato en que se almacenan los datos binarios.\n",
    "    En Python, los objetos bytes representan datos binarios sin formato, como archivos de imagen, audio, etc.\n",
    "    \n",
    "3. #### Guardar la Imagen:\n",
    "\n",
    "    Para guardar estos datos binarios en un archivo de imagen en el sistema de archivos, necesitas usar un objeto de archivo.\n",
    "    Primero, especificas la ruta del archivo y el nombre del archivo donde deseas guardar la imagen."
   ]
  }
 ],
 "metadata": {
  "kernelspec": {
   "display_name": "Python 3",
   "language": "python",
   "name": "python3"
  },
  "language_info": {
   "codemirror_mode": {
    "name": "ipython",
    "version": 3
   },
   "file_extension": ".py",
   "mimetype": "text/x-python",
   "name": "python",
   "nbconvert_exporter": "python",
   "pygments_lexer": "ipython3",
   "version": "3.12.2"
  }
 },
 "nbformat": 4,
 "nbformat_minor": 2
}
